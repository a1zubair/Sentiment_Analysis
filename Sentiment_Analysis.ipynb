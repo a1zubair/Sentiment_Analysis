{
  "nbformat": 4,
  "nbformat_minor": 0,
  "metadata": {
    "colab": {
      "provenance": []
    },
    "kernelspec": {
      "name": "python3",
      "display_name": "Python 3"
    },
    "language_info": {
      "name": "python"
    }
  },
  "cells": [
    {
      "cell_type": "code",
      "execution_count": null,
      "metadata": {
        "id": "kuAjLHxR0Dyv"
      },
      "outputs": [],
      "source": [
        "import pandas as pd\n",
        "import numpy as np\n",
        "import re\n",
        "from sklearn.model_selection import train_test_split\n",
        "from tensorflow.keras.preprocessing.text import Tokenizer\n",
        "from tensorflow.keras.preprocessing.sequence import pad_sequences\n",
        "import tensorflow as tf\n"
      ]
    },
    {
      "cell_type": "code",
      "source": [
        "import pandas as pd\n",
        "import numpy as np\n",
        "import re\n",
        "\n",
        "# Read the CSV file\n",
        "data = pd.read_csv('twitter_sentiment_data.csv', sep=',', dtype={'tweetid': str})\n",
        "\n",
        "# Print the DataFrame to make sure it's populated with data\n",
        "print(data.head())\n",
        "\n",
        "def preprocess_text(text):\n",
        "    # Check if the input is a string\n",
        "    if not isinstance(text, str):\n",
        "        return ''\n",
        "\n",
        "    # Remove URLs\n",
        "    text = re.sub(r'http\\S+|www\\S+|https\\S+', '', text, flags=re.MULTILINE)\n",
        "\n",
        "    # Remove special characters and numbers\n",
        "    text = re.sub(r'\\W+|\\d+', ' ', text)\n",
        "\n",
        "    # Convert to lowercase\n",
        "    text = text.lower()\n",
        "\n",
        "    return text\n",
        "\n",
        "# Apply the preprocessing function to the 'message' column\n",
        "data['cleaned_text'] = data['message'].apply(preprocess_text)\n",
        "\n",
        "# Print the DataFrame to make sure the 'cleaned_text' column is created\n",
        "print(data.head())\n",
        "\n",
        "# Save the preprocessed data to a CSV file\n",
        "data.to_csv('preprocessed_twitter_sentiment_data.csv', index=False)\n",
        "\n",
        "# Sample data\n",
        "sample_size = 3  # Adjust this number to display more or fewer samples\n",
        "\n",
        "# Check if the DataFrame is not empty before sampling\n",
        "if not data.empty:\n",
        "    sample_data = data.sample(sample_size)\n",
        "    print(sample_data[['message', 'cleaned_text', 'sentiment']])\n",
        "else:\n",
        "    print(\"The DataFrame is empty.\")\n",
        "\n",
        "\n"
      ],
      "metadata": {
        "id": "2KjhAMMy1Hi_"
      },
      "execution_count": null,
      "outputs": []
    },
    {
      "cell_type": "code",
      "source": [
        "from gensim.models import Word2Vec\n",
        "\n",
        "# Read the CSV file\n",
        "df = pd.read_csv('cleaned_twitter_sentiment_data.csv',encoding='iso-8859-1')\n",
        "\n",
        "# Prepare the dataset\n",
        "dataset = df['cleaned_text'].apply(lambda x: x.split()).tolist()\n",
        "\n",
        "\n",
        "\n",
        "# Train the Word2Vec model\n",
        "model = Word2Vec(dataset, vector_size=100, window=5, min_count=1, workers=4, sg=1)\n",
        "\n",
        "# Convert the preprocessed tweets into word vectors\n",
        "tweet_vectors = []\n",
        "\n",
        "for tweet in dataset:\n",
        "    tweet_vector = []\n",
        "    for word in tweet:\n",
        "        if word in model.wv:\n",
        "            tweet_vector.append(model.wv[word])\n",
        "    tweet_vectors.append(tweet_vector)\n",
        "\n",
        "# Print the first tweet and its corresponding word vectors\n",
        "print('Tweet:', df.loc[0, 'cleaned_text'])\n",
        "print('Word Vectors:', tweet_vectors[0])\n",
        "\n"
      ],
      "metadata": {
        "id": "7Tm33Sv7CI6N"
      },
      "execution_count": null,
      "outputs": []
    },
    {
      "cell_type": "code",
      "source": [
        "# Function to create sentence embeddings\n",
        "def sentence_embedding(words, model, vector_size):\n",
        "    valid_words = [word for word in words if word in model.wv]\n",
        "    if valid_words:\n",
        "        embeddings = np.array([model.wv[word] for word in valid_words])\n",
        "        return np.mean(embeddings, axis=0)\n",
        "    else:\n",
        "        return np.zeros(vector_size)\n",
        "\n",
        "# Create sentence embeddings for each tweet\n",
        "vector_size = 100\n",
        "data['embedding'] = data['cleaned_text'].apply(lambda x: sentence_embedding(x.split(), model, vector_size))\n",
        "\n",
        "# Prepare the features and target\n",
        "X = np.stack(data['embedding'].values)\n",
        "y = data['sentiment'].values\n"
      ],
      "metadata": {
        "id": "wHX4jqK7kxGc"
      },
      "execution_count": null,
      "outputs": []
    },
    {
      "cell_type": "code",
      "source": [
        "from gensim.models import Word2Vec\n",
        "from sklearn.model_selection import train_test_split\n",
        "from sklearn.linear_model import LogisticRegression\n",
        "from sklearn.metrics import classification_report\n",
        "# Train-test split\n",
        "X_train, X_test, y_train, y_test = train_test_split(X, y, test_size=0.2, random_state=42)\n",
        "\n",
        "# Train a logistic regression model\n",
        "clf = LogisticRegression(max_iter=1000)\n",
        "clf.fit(X_train, y_train)\n",
        "\n",
        "# Evaluate the model\n",
        "print('Logistic Regression')\n",
        "y_pred = clf.predict(X_test)\n",
        "print(classification_report(y_test, y_pred))\n"
      ],
      "metadata": {
        "colab": {
          "base_uri": "https://localhost:8080/"
        },
        "id": "bZhgPAc8k5RN",
        "outputId": "c21db216-42a0-4522-c7ba-74b23cfc9884"
      },
      "execution_count": null,
      "outputs": [
        {
          "output_type": "stream",
          "name": "stdout",
          "text": [
            "Logistic Regression\n",
            "              precision    recall  f1-score   support\n",
            "\n",
            "          -1       0.58      0.18      0.28       784\n",
            "           0       0.62      0.40      0.48      1582\n",
            "           1       0.68      0.88      0.76      4514\n",
            "           2       0.74      0.65      0.69      1909\n",
            "\n",
            "    accuracy                           0.68      8789\n",
            "   macro avg       0.65      0.53      0.55      8789\n",
            "weighted avg       0.67      0.68      0.65      8789\n",
            "\n"
          ]
        }
      ]
    },
    {
      "cell_type": "code",
      "source": [
        "from sklearn.svm import SVC\n",
        "# Train-test split\n",
        "X_train, X_test, y_train, y_test = train_test_split(X, y, test_size=0.2, random_state=42)\n",
        "\n",
        "# Train an SVM model\n",
        "clf = SVC()\n",
        "clf.fit(X_train, y_train)\n",
        "\n",
        "# Evaluate the model\n",
        "print('SVM')\n",
        "y_pred = clf.predict(X_test)\n",
        "print(classification_report(y_test, y_pred))\n"
      ],
      "metadata": {
        "colab": {
          "base_uri": "https://localhost:8080/"
        },
        "id": "fhdnvmjRTVNq",
        "outputId": "1e6af6bc-b08c-40ee-bd98-cebb595ad0b9"
      },
      "execution_count": null,
      "outputs": [
        {
          "output_type": "stream",
          "name": "stdout",
          "text": [
            "SVM\n",
            "              precision    recall  f1-score   support\n",
            "\n",
            "          -1       0.79      0.06      0.11       784\n",
            "           0       0.72      0.28      0.41      1582\n",
            "           1       0.64      0.92      0.76      4514\n",
            "           2       0.75      0.66      0.70      1909\n",
            "\n",
            "    accuracy                           0.67      8789\n",
            "   macro avg       0.73      0.48      0.49      8789\n",
            "weighted avg       0.69      0.67      0.62      8789\n",
            "\n"
          ]
        }
      ]
    },
    {
      "cell_type": "code",
      "source": [
        "from sklearn.naive_bayes import GaussianNB\n",
        "\n",
        "# Train-test split\n",
        "X_train, X_test, y_train, y_test = train_test_split(X, y, test_size=0.2, random_state=42)\n",
        "\n",
        "# Train a Gaussian Naive Bayes model\n",
        "clf = GaussianNB()\n",
        "clf.fit(X_train, y_train)\n",
        "\n",
        "# Evaluate the model\n",
        "print('Gaussian Naive Bayes')\n",
        "y_pred = clf.predict(X_test)\n",
        "print(classification_report(y_test, y_pred))\n",
        "\n"
      ],
      "metadata": {
        "colab": {
          "base_uri": "https://localhost:8080/"
        },
        "id": "X-dW6_PaVMme",
        "outputId": "cd25d95d-7790-495e-99b9-bf57d46c5509"
      },
      "execution_count": null,
      "outputs": [
        {
          "output_type": "stream",
          "name": "stdout",
          "text": [
            "Gaussian Naive Bayes\n",
            "              precision    recall  f1-score   support\n",
            "\n",
            "          -1       0.23      0.59      0.33       784\n",
            "           0       0.49      0.35      0.41      1582\n",
            "           1       0.76      0.52      0.62      4514\n",
            "           2       0.57      0.74      0.65      1909\n",
            "\n",
            "    accuracy                           0.55      8789\n",
            "   macro avg       0.51      0.55      0.50      8789\n",
            "weighted avg       0.62      0.55      0.56      8789\n",
            "\n"
          ]
        }
      ]
    },
    {
      "cell_type": "code",
      "source": [
        "from sklearn.ensemble import RandomForestClassifier\n",
        "from sklearn.model_selection import train_test_split\n",
        "from sklearn.metrics import classification_report\n",
        "\n",
        "# Train-test split\n",
        "X_train, X_test, y_train, y_test = train_test_split(X, y, test_size=0.2, random_state=42)\n",
        "\n",
        "# Train a Random Forest model\n",
        "clf = RandomForestClassifier(n_estimators=100, random_state=42)\n",
        "clf.fit(X_train, y_train)\n",
        "\n",
        "# Evaluate the model\n",
        "print('Random Forest Classifier')\n",
        "y_pred = clf.predict(X_test)\n",
        "print(classification_report(y_test, y_pred))\n"
      ],
      "metadata": {
        "colab": {
          "base_uri": "https://localhost:8080/"
        },
        "id": "sC6gL-BfVkDY",
        "outputId": "e7577613-00c9-48f1-8d26-933732965a9b"
      },
      "execution_count": null,
      "outputs": [
        {
          "output_type": "stream",
          "name": "stdout",
          "text": [
            "Random Forest Classifier\n",
            "              precision    recall  f1-score   support\n",
            "\n",
            "          -1       0.80      0.17      0.28       784\n",
            "           0       0.68      0.37      0.48      1582\n",
            "           1       0.67      0.92      0.78      4514\n",
            "           2       0.80      0.67      0.73      1909\n",
            "\n",
            "    accuracy                           0.70      8789\n",
            "   macro avg       0.74      0.53      0.57      8789\n",
            "weighted avg       0.71      0.70      0.67      8789\n",
            "\n"
          ]
        }
      ]
    },
    {
      "cell_type": "code",
      "source": [
        "import numpy as np\n",
        "import pandas as pd\n",
        "from sklearn.model_selection import train_test_split\n",
        "from sklearn.preprocessing import LabelEncoder\n",
        "from tensorflow.keras.preprocessing.text import Tokenizer\n",
        "from tensorflow.keras.preprocessing.sequence import pad_sequences\n",
        "from tensorflow.keras.models import Sequential\n",
        "from tensorflow.keras.layers import Embedding, LSTM, Dense\n",
        "\n",
        "# Load the preprocessed data\n",
        "data = pd.read_csv('cleaned_twitter_sentiment_data.csv',encoding='iso-8859-1')\n",
        "\n",
        "# Tokenize the cleaned text\n",
        "max_features = 10000\n",
        "tokenizer = Tokenizer(num_words=max_features, split=' ')\n",
        "tokenizer.fit_on_texts(data['cleaned_text'].values)\n",
        "X = tokenizer.texts_to_sequences(data['cleaned_text'].values)\n",
        "X = pad_sequences(X)\n",
        "\n",
        "# Encode the sentiment labels\n",
        "label_encoder = LabelEncoder()\n",
        "y = label_encoder.fit_transform(data['sentiment'])\n",
        "\n",
        "# Split the dataset into training and testing sets\n",
        "X_train, X_test, y_train, y_test = train_test_split(X, y, test_size=0.2, random_state=42)\n",
        "\n",
        "# Define the RNN model\n",
        "model = Sequential()\n",
        "model.add(Embedding(max_features, 128, input_length=X.shape[1]))\n",
        "model.add(LSTM(128, dropout=0.2, recurrent_dropout=0.2))\n",
        "model.add(Dense(4, activation='softmax'))  # There are 4 sentiment classes: -1, 0, 1, and 2\n",
        "model.compile(loss='sparse_categorical_crossentropy', optimizer='adam', metrics=['accuracy'])\n",
        "\n",
        "# Train the RNN model\n",
        "batch_size = 32\n",
        "epochs = 10\n",
        "model.fit(X_train, y_train, epochs=epochs, batch_size=batch_size, verbose=1)\n",
        "\n",
        "# Evaluate the RNN model\n",
        "score, accuracy = model.evaluate(X_test, y_test, batch_size=batch_size, verbose=1)\n",
        "print(\"Test score:\", score)\n",
        "print(\"Test accuracy:\", accuracy)\n"
      ],
      "metadata": {
        "colab": {
          "base_uri": "https://localhost:8080/"
        },
        "id": "y8qOPGYct0gs",
        "outputId": "33a25983-d43d-42c1-ec26-d738ddf61194"
      },
      "execution_count": null,
      "outputs": [
        {
          "output_type": "stream",
          "name": "stdout",
          "text": [
            "Epoch 1/10\n",
            "1099/1099 [==============================] - 895s 811ms/step - loss: 0.8019 - accuracy: 0.6808\n",
            "Epoch 2/10\n",
            "1099/1099 [==============================] - 895s 814ms/step - loss: 0.5506 - accuracy: 0.7859\n",
            "Epoch 3/10\n",
            "1099/1099 [==============================] - 907s 825ms/step - loss: 0.4366 - accuracy: 0.8329\n",
            "Epoch 4/10\n",
            "1099/1099 [==============================] - 886s 806ms/step - loss: 0.3496 - accuracy: 0.8685\n",
            "Epoch 5/10\n",
            "1099/1099 [==============================] - 888s 807ms/step - loss: 0.2803 - accuracy: 0.8969\n",
            "Epoch 6/10\n",
            "1099/1099 [==============================] - 885s 805ms/step - loss: 0.2219 - accuracy: 0.9166\n",
            "Epoch 7/10\n",
            "1099/1099 [==============================] - 889s 809ms/step - loss: 0.1846 - accuracy: 0.9331\n",
            "Epoch 8/10\n",
            "1099/1099 [==============================] - 887s 807ms/step - loss: 0.1535 - accuracy: 0.9421\n",
            "Epoch 9/10\n",
            "1099/1099 [==============================] - 882s 803ms/step - loss: 0.1262 - accuracy: 0.9532\n",
            "Epoch 10/10\n",
            "1099/1099 [==============================] - 878s 799ms/step - loss: 0.1046 - accuracy: 0.9625\n",
            "275/275 [==============================] - 30s 107ms/step - loss: 1.5557 - accuracy: 0.7095\n",
            "Test score: 1.5557242631912231\n",
            "Test accuracy: 0.7095232605934143\n"
          ]
        }
      ]
    },
    {
      "cell_type": "code",
      "source": [
        "import pandas as pd\n",
        "import numpy as np\n",
        "from sklearn.model_selection import train_test_split\n",
        "from sklearn.linear_model import LogisticRegression\n",
        "from sklearn.metrics import classification_report\n",
        "\n",
        "# Load the preprocessed dataset\n",
        "data = pd.read_csv('cleaned_twitter_sentiment_data.csv',encoding='iso-8859-1')\n",
        "\n",
        "# Load GloVe embeddings\n",
        "def load_glove_embeddings(file_path):\n",
        "    embeddings = {}\n",
        "    with open(file_path, 'r', encoding='utf-8') as f:\n",
        "        for line in f:\n",
        "            values = line.strip().split()\n",
        "            word = values[0]\n",
        "            vector = np.array(values[1:], dtype=np.float32)\n",
        "            embeddings[word] = vector\n",
        "    return embeddings\n",
        "\n",
        "glove_file_path = '/content/glove.6B.100d.txt'\n",
        "glove_embeddings = load_glove_embeddings(glove_file_path)\n",
        "\n",
        "\n",
        "# Convert tweets to GloVe embeddings\n",
        "def tweet_to_glove_vector(tweet, embeddings):\n",
        "    if not isinstance(tweet, str):\n",
        "        return np.zeros(100)\n",
        "    \n",
        "    words = tweet.split()\n",
        "    if not words:\n",
        "        return np.zeros(100)\n",
        "    \n",
        "    word_vectors = [embeddings.get(word, np.zeros(100)) for word in words]\n",
        "    return np.mean(word_vectors, axis=0)\n",
        "\n",
        "data['glove_vector'] = data['cleaned_text'].apply(lambda x: tweet_to_glove_vector(x, glove_embeddings))\n",
        "\n",
        "# Remove any rows with invalid GloVe vectors\n",
        "data = data[data['glove_vector'].apply(lambda x: x.shape == (100,))]\n",
        "\n",
        "# Save the GloVe values in the cleaned_twitter_sentiment_data.csv\n",
        "data.to_csv('cleaned_twitter_sentiment_data.csv', index=False)\n",
        "\n",
        "\n",
        "# Split the dataset into training and testing sets\n",
        "X = np.vstack(data['glove_vector'].values)\n",
        "y = data['sentiment'].values\n",
        "X_train, X_test, y_train, y_test = train_test_split(X, y, test_size=0.2, random_state=42)\n",
        "\n",
        "# Train a logistic regression classifier\n",
        "clf = LogisticRegression(solver='lbfgs', multi_class='multinomial', max_iter=1000)\n",
        "clf.fit(X_train, y_train)\n",
        "\n",
        "# Evaluate the classifier\n",
        "y_pred = clf.predict(X_test)\n",
        "print(classification_report(y_test, y_pred))\n"
      ],
      "metadata": {
        "colab": {
          "base_uri": "https://localhost:8080/"
        },
        "id": "BT48tZ7OnSn0",
        "outputId": "e8ecae6e-183b-41fd-a7ac-d795248ce072"
      },
      "execution_count": null,
      "outputs": [
        {
          "output_type": "stream",
          "name": "stdout",
          "text": [
            "              precision    recall  f1-score   support\n",
            "\n",
            "          -1       0.50      0.15      0.23       784\n",
            "           0       0.56      0.29      0.38      1582\n",
            "           1       0.65      0.87      0.74      4514\n",
            "           2       0.68      0.60      0.64      1909\n",
            "\n",
            "    accuracy                           0.64      8789\n",
            "   macro avg       0.59      0.48      0.50      8789\n",
            "weighted avg       0.62      0.64      0.61      8789\n",
            "\n"
          ]
        }
      ]
    },
    {
      "cell_type": "code",
      "source": [
        "# Split the dataset into training and testing sets\n",
        "X = np.vstack(data['glove_vector'].values)\n",
        "y = data['sentiment'].values\n",
        "X_train, X_test, y_train, y_test = train_test_split(X, y, test_size=0.2, random_state=42)\n",
        "# Train a Random Forest model\n",
        "clf = RandomForestClassifier(n_estimators=100, random_state=42)\n",
        "clf.fit(X_train, y_train)\n",
        "\n",
        "# Evaluate the model\n",
        "print('Random Forest Classifier')\n",
        "y_pred = clf.predict(X_test)\n",
        "print(classification_report(y_test, y_pred))\n"
      ],
      "metadata": {
        "colab": {
          "base_uri": "https://localhost:8080/"
        },
        "id": "DjrizJM7PSls",
        "outputId": "b258c041-d8f7-4ca7-a32c-8b59c54ad5dd"
      },
      "execution_count": null,
      "outputs": [
        {
          "output_type": "stream",
          "name": "stdout",
          "text": [
            "Random Forest Classifier\n",
            "              precision    recall  f1-score   support\n",
            "\n",
            "          -1       0.95      0.10      0.18       784\n",
            "           0       0.72      0.26      0.38      1582\n",
            "           1       0.64      0.92      0.76      4514\n",
            "           2       0.74      0.64      0.69      1909\n",
            "\n",
            "    accuracy                           0.67      8789\n",
            "   macro avg       0.76      0.48      0.50      8789\n",
            "weighted avg       0.70      0.67      0.62      8789\n",
            "\n"
          ]
        }
      ]
    }
  ]
}